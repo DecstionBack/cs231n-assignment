{
 "cells": [
  {
   "cell_type": "markdown",
   "metadata": {},
   "source": [
    "# Softmax exercise\n",
    "\n",
    "*Complete and hand in this completed worksheet (including its outputs and any supporting code outside of the worksheet) with your assignment submission. For more details see the [assignments page](http://vision.stanford.edu/teaching/cs231n/assignments.html) on the course website.*\n",
    "\n",
    "This exercise is analogous to the SVM exercise. You will:\n",
    "\n",
    "- implement a fully-vectorized **loss function** for the Softmax classifier\n",
    "- implement the fully-vectorized expression for its **analytic gradient**\n",
    "- **check your implementation** with numerical gradient\n",
    "- use a validation set to **tune the learning rate and regularization** strength\n",
    "- **optimize** the loss function with **SGD**\n",
    "- **visualize** the final learned weights\n"
   ]
  },
  {
   "cell_type": "code",
   "execution_count": 1,
   "metadata": {
    "collapsed": false
   },
   "outputs": [],
   "source": [
    "import random\n",
    "import numpy as np\n",
    "from cs231n.data_utils import load_CIFAR10\n",
    "import matplotlib.pyplot as plt\n",
    "%matplotlib inline\n",
    "plt.rcParams['figure.figsize'] = (10.0, 8.0) # set default size of plots\n",
    "plt.rcParams['image.interpolation'] = 'nearest'\n",
    "plt.rcParams['image.cmap'] = 'gray'\n",
    "\n",
    "# for auto-reloading extenrnal modules\n",
    "# see http://stackoverflow.com/questions/1907993/autoreload-of-modules-in-ipython\n",
    "%load_ext autoreload\n",
    "%autoreload 2"
   ]
  },
  {
   "cell_type": "code",
   "execution_count": 2,
   "metadata": {
    "collapsed": false
   },
   "outputs": [
    {
     "name": "stdout",
     "output_type": "stream",
     "text": [
      "Train data shape:  (49000L, 3073L)\n",
      "Train labels shape:  (49000L,)\n",
      "Validation data shape:  (1000L, 3073L)\n",
      "Validation labels shape:  (1000L,)\n",
      "Test data shape:  (1000L, 3073L)\n",
      "Test labels shape:  (1000L,)\n",
      "dev data shape:  (500L, 3073L)\n",
      "dev labels shape:  (500L,)\n"
     ]
    }
   ],
   "source": [
    "def get_CIFAR10_data(num_training=49000, num_validation=1000, num_test=1000, num_dev=500):\n",
    "  \"\"\"\n",
    "  Load the CIFAR-10 dataset from disk and perform preprocessing to prepare\n",
    "  it for the linear classifier. These are the same steps as we used for the\n",
    "  SVM, but condensed to a single function.  \n",
    "  \"\"\"\n",
    "  # Load the raw CIFAR-10 data\n",
    "  cifar10_dir = 'cs231n/datasets/cifar-10-batches-py'\n",
    "  X_train, y_train, X_test, y_test = load_CIFAR10(cifar10_dir)\n",
    "  \n",
    "  # subsample the data\n",
    "  mask = range(num_training, num_training + num_validation)\n",
    "  X_val = X_train[mask]\n",
    "  y_val = y_train[mask]\n",
    "  mask = range(num_training)\n",
    "  X_train = X_train[mask]\n",
    "  y_train = y_train[mask]\n",
    "  mask = range(num_test)\n",
    "  X_test = X_test[mask]\n",
    "  y_test = y_test[mask]\n",
    "  mask = np.random.choice(num_training, num_dev, replace=False)\n",
    "  X_dev = X_train[mask]\n",
    "  y_dev = y_train[mask]\n",
    "  \n",
    "  # Preprocessing: reshape the image data into rows\n",
    "  X_train = np.reshape(X_train, (X_train.shape[0], -1))\n",
    "  X_val = np.reshape(X_val, (X_val.shape[0], -1))\n",
    "  X_test = np.reshape(X_test, (X_test.shape[0], -1))\n",
    "  X_dev = np.reshape(X_dev, (X_dev.shape[0], -1))\n",
    "  \n",
    "  # Normalize the data: subtract the mean image\n",
    "  mean_image = np.mean(X_train, axis = 0)\n",
    "  X_train -= mean_image\n",
    "  X_val -= mean_image\n",
    "  X_test -= mean_image\n",
    "  X_dev -= mean_image\n",
    "  \n",
    "  # add bias dimension and transform into columns\n",
    "  X_train = np.hstack([X_train, np.ones((X_train.shape[0], 1))])\n",
    "  X_val = np.hstack([X_val, np.ones((X_val.shape[0], 1))])\n",
    "  X_test = np.hstack([X_test, np.ones((X_test.shape[0], 1))])\n",
    "  X_dev = np.hstack([X_dev, np.ones((X_dev.shape[0], 1))])\n",
    "  \n",
    "  return X_train, y_train, X_val, y_val, X_test, y_test, X_dev, y_dev\n",
    "\n",
    "\n",
    "# Invoke the above function to get our data.\n",
    "X_train, y_train, X_val, y_val, X_test, y_test, X_dev, y_dev = get_CIFAR10_data()\n",
    "print 'Train data shape: ', X_train.shape\n",
    "print 'Train labels shape: ', y_train.shape\n",
    "print 'Validation data shape: ', X_val.shape\n",
    "print 'Validation labels shape: ', y_val.shape\n",
    "print 'Test data shape: ', X_test.shape\n",
    "print 'Test labels shape: ', y_test.shape\n",
    "print 'dev data shape: ', X_dev.shape\n",
    "print 'dev labels shape: ', y_dev.shape"
   ]
  },
  {
   "cell_type": "markdown",
   "metadata": {},
   "source": [
    "## Softmax Classifier\n",
    "\n",
    "Your code for this section will all be written inside **cs231n/classifiers/softmax.py**. \n"
   ]
  },
  {
   "cell_type": "code",
   "execution_count": 3,
   "metadata": {
    "collapsed": false
   },
   "outputs": [
    {
     "name": "stdout",
     "output_type": "stream",
     "text": [
      "loss: 2.333000\n",
      "sanity check: 2.302585\n"
     ]
    }
   ],
   "source": [
    "# First implement the naive softmax loss function with nested loops.\n",
    "# Open the file cs231n/classifiers/softmax.py and implement the\n",
    "# softmax_loss_naive function.\n",
    "\n",
    "from cs231n.classifiers.softmax import softmax_loss_naive\n",
    "import time\n",
    "\n",
    "# Generate a random softmax weight matrix and use it to compute the loss.\n",
    "W = np.random.randn(3073, 10) * 0.0001\n",
    "loss, grad = softmax_loss_naive(W, X_dev, y_dev, 0.0)\n",
    "\n",
    "# As a rough sanity check, our loss should be something close to -log(0.1).\n",
    "print 'loss: %f' % loss\n",
    "print 'sanity check: %f' % (-np.log(0.1))"
   ]
  },
  {
   "cell_type": "markdown",
   "metadata": {},
   "source": [
    "## Inline Question 1:\n",
    "Why do we expect our loss to be close to -log(0.1)? Explain briefly.**\n",
    "\n",
    "**Your answer:** *Fill this in*\n"
   ]
  },
  {
   "cell_type": "code",
   "execution_count": 4,
   "metadata": {
    "collapsed": false
   },
   "outputs": [
    {
     "name": "stdout",
     "output_type": "stream",
     "text": [
      "numerical: -1.674159 analytic: -1.674160, relative error: 2.549977e-08\n",
      "numerical: 2.539976 analytic: 2.539976, relative error: 5.948934e-08\n",
      "numerical: 1.042723 analytic: 1.042723, relative error: 7.601700e-09\n",
      "numerical: 1.350862 analytic: 1.350862, relative error: 5.539307e-08\n",
      "numerical: 0.037005 analytic: 0.037005, relative error: 7.818020e-07\n",
      "numerical: 2.256720 analytic: 2.256720, relative error: 5.452466e-08\n",
      "numerical: -1.704745 analytic: -1.704745, relative error: 2.467907e-08\n",
      "numerical: 0.986684 analytic: 0.986684, relative error: 3.246307e-08\n",
      "numerical: -1.396650 analytic: -1.396650, relative error: 2.608730e-08\n",
      "numerical: -1.980073 analytic: -1.980073, relative error: 2.077117e-08\n",
      "numerical: -1.471298 analytic: -1.471298, relative error: 1.756245e-08\n",
      "numerical: -0.674351 analytic: -0.674351, relative error: 1.867269e-08\n",
      "numerical: -0.608195 analytic: -0.608195, relative error: 1.405918e-08\n",
      "numerical: -3.615301 analytic: -3.615301, relative error: 2.291576e-08\n",
      "numerical: 0.998643 analytic: 0.998643, relative error: 3.913237e-08\n",
      "numerical: -0.736633 analytic: -0.736633, relative error: 5.017460e-08\n",
      "numerical: -0.582295 analytic: -0.582295, relative error: 3.904843e-08\n",
      "numerical: 1.950426 analytic: 1.950425, relative error: 8.313367e-09\n",
      "numerical: -5.319033 analytic: -5.319033, relative error: 4.982901e-09\n",
      "numerical: -2.292651 analytic: -2.292652, relative error: 1.981543e-08\n"
     ]
    }
   ],
   "source": [
    "# Complete the implementation of softmax_loss_naive and implement a (naive)\n",
    "# version of the gradient that uses nested loops.\n",
    "loss, grad = softmax_loss_naive(W, X_dev, y_dev, 0.0)\n",
    "\n",
    "# As we did for the SVM, use numeric gradient checking as a debugging tool.\n",
    "# The numeric gradient should be close to the analytic gradient.\n",
    "from cs231n.gradient_check import grad_check_sparse\n",
    "f = lambda w: softmax_loss_naive(w, X_dev, y_dev, 0.0)[0]\n",
    "grad_numerical = grad_check_sparse(f, W, grad, 10)\n",
    "\n",
    "# similar to SVM case, do another gradient check with regularization\n",
    "loss, grad = softmax_loss_naive(W, X_dev, y_dev, 1e2)\n",
    "f = lambda w: softmax_loss_naive(w, X_dev, y_dev, 1e2)[0]\n",
    "grad_numerical = grad_check_sparse(f, W, grad, 10)"
   ]
  },
  {
   "cell_type": "code",
   "execution_count": 5,
   "metadata": {
    "collapsed": false
   },
   "outputs": [
    {
     "name": "stdout",
     "output_type": "stream",
     "text": [
      "naive loss: 2.333000e+00 computed in 0.078000s\n",
      "vectorized loss: 2.333000e+00 computed in 0.000000s\n",
      "Loss difference: 0.000000\n",
      "Gradient difference: 0.000000\n"
     ]
    }
   ],
   "source": [
    "# Now that we have a naive implementation of the softmax loss function and its gradient,\n",
    "# implement a vectorized version in softmax_loss_vectorized.\n",
    "# The two versions should compute the same results, but the vectorized version should be\n",
    "# much faster.\n",
    "tic = time.time()\n",
    "loss_naive, grad_naive = softmax_loss_naive(W, X_dev, y_dev, 0.00001)\n",
    "toc = time.time()\n",
    "print 'naive loss: %e computed in %fs' % (loss_naive, toc - tic)\n",
    "\n",
    "from cs231n.classifiers.softmax import softmax_loss_vectorized\n",
    "tic = time.time()\n",
    "loss_vectorized, grad_vectorized = softmax_loss_vectorized(W, X_dev, y_dev, 0.00001)\n",
    "toc = time.time()\n",
    "print 'vectorized loss: %e computed in %fs' % (loss_vectorized, toc - tic)\n",
    "\n",
    "# As we did for the SVM, we use the Frobenius norm to compare the two versions\n",
    "# of the gradient.\n",
    "grad_difference = np.linalg.norm(grad_naive - grad_vectorized, ord='fro')\n",
    "print 'Loss difference: %f' % np.abs(loss_naive - loss_vectorized)\n",
    "print 'Gradient difference: %f' % grad_difference"
   ]
  },
  {
   "cell_type": "code",
   "execution_count": 6,
   "metadata": {
    "collapsed": false
   },
   "outputs": [
    {
     "name": "stdout",
     "output_type": "stream",
     "text": [
      "iteration 0 / 1500: loss 79.841968\n",
      "iteration 100 / 1500: loss 37.324407\n",
      "iteration 200 / 1500: loss 18.354721\n",
      "iteration 300 / 1500: loss 9.465880\n",
      "iteration 400 / 1500: loss 5.505061\n",
      "iteration 500 / 1500: loss 3.552089\n",
      "iteration 600 / 1500: loss 2.675011\n",
      "iteration 700 / 1500: loss 2.279533\n",
      "iteration 800 / 1500: loss 1.987979\n",
      "iteration 900 / 1500: loss 1.969099\n",
      "iteration 1000 / 1500: loss 1.891969\n",
      "iteration 1100 / 1500: loss 1.835063\n",
      "iteration 1200 / 1500: loss 1.898348\n",
      "iteration 1300 / 1500: loss 1.925342\n",
      "iteration 1400 / 1500: loss 1.922238\n",
      "training accuracy: 0.388429\n",
      "validation accuracy: 0.389000\n",
      "iteration 0 / 1500: loss 83.831934\n",
      "iteration 100 / 1500: loss 37.470031\n",
      "iteration 200 / 1500: loss 18.217354\n",
      "iteration 300 / 1500: loss 9.383006\n",
      "iteration 400 / 1500: loss 5.279838\n",
      "iteration 500 / 1500: loss 3.478778\n",
      "iteration 600 / 1500: loss 2.637635\n",
      "iteration 700 / 1500: loss 2.205319\n",
      "iteration 800 / 1500: loss 2.055773\n",
      "iteration 900 / 1500: loss 1.991592\n",
      "iteration 1000 / 1500: loss 1.862718\n",
      "iteration 1100 / 1500: loss 1.942999\n",
      "iteration 1200 / 1500: loss 1.873362\n",
      "iteration 1300 / 1500: loss 1.899843\n",
      "iteration 1400 / 1500: loss 1.898611\n",
      "training accuracy: 0.382531\n",
      "validation accuracy: 0.386000\n",
      "iteration 0 / 1500: loss 81.638817\n",
      "iteration 100 / 1500: loss 37.400720\n",
      "iteration 200 / 1500: loss 18.171393\n",
      "iteration 300 / 1500: loss 9.320263\n",
      "iteration 400 / 1500: loss 5.246842\n",
      "iteration 500 / 1500: loss 3.380138\n",
      "iteration 600 / 1500: loss 2.666770\n",
      "iteration 700 / 1500: loss 2.115284\n",
      "iteration 800 / 1500: loss 2.080009\n",
      "iteration 900 / 1500: loss 2.059550\n",
      "iteration 1000 / 1500: loss 1.951258\n",
      "iteration 1100 / 1500: loss 1.855373\n",
      "iteration 1200 / 1500: loss 1.757959\n",
      "iteration 1300 / 1500: loss 1.911236\n",
      "iteration 1400 / 1500: loss 1.898081\n",
      "training accuracy: 0.383878\n",
      "validation accuracy: 0.377000\n",
      "iteration 0 / 1500: loss 81.786047\n",
      "iteration 100 / 1500: loss 37.061655\n",
      "iteration 200 / 1500: loss 17.721544\n",
      "iteration 300 / 1500: loss 9.101879\n",
      "iteration 400 / 1500: loss 5.244733\n",
      "iteration 500 / 1500: loss 3.353098\n",
      "iteration 600 / 1500: loss 2.576756\n",
      "iteration 700 / 1500: loss 2.184217\n",
      "iteration 800 / 1500: loss 2.070340\n",
      "iteration 900 / 1500: loss 1.943303\n",
      "iteration 1000 / 1500: loss 1.932304\n",
      "iteration 1100 / 1500: loss 1.937957\n",
      "iteration 1200 / 1500: loss 1.915136\n",
      "iteration 1300 / 1500: loss 1.895906\n",
      "iteration 1400 / 1500: loss 1.938761\n",
      "training accuracy: 0.390184\n",
      "validation accuracy: 0.394000\n",
      "lr 7.700000e-07 reg 4.900000e+03 train accuracy: 0.000001 val accuracy: 4900.000000\n",
      "lr 7.700000e-07 reg 5.000000e+03 train accuracy: 0.000001 val accuracy: 5000.000000\n",
      "lr 7.800000e-07 reg 4.900000e+03 train accuracy: 0.000001 val accuracy: 4900.000000\n",
      "lr 7.800000e-07 reg 5.000000e+03 train accuracy: 0.000001 val accuracy: 5000.000000\n",
      "best validation accuracy achieved during cross-validation: 0.394000\n"
     ]
    }
   ],
   "source": [
    "# Use the validation set to tune hyperparameters (regularization strength and\n",
    "# learning rate). You should experiment with different ranges for the learning\n",
    "# rates and regularization strengths; if you are careful you should be able to\n",
    "# get a classification accuracy of over 0.35 on the validation set.\n",
    "from cs231n.classifiers import Softmax\n",
    "results = {}\n",
    "best_val = -1\n",
    "best_softmax = None\n",
    "learning_rates = [7.7e-7, 7.8e-7]\n",
    "regularization_strengths = [4.9e3, 5e3]\n",
    "\n",
    "################################################################################\n",
    "# TODO:                                                                        #\n",
    "# Use the validation set to set the learning rate and regularization strength. #\n",
    "# This should be identical to the validation that you did for the SVM; save    #\n",
    "# the best trained softmax classifer in best_softmax.                          #\n",
    "################################################################################\n",
    "\n",
    "for lr in learning_rates:\n",
    "    for reg in regularization_strengths:\n",
    "        softmax = Softmax()\n",
    "        softmax.train(X_train, y_train, learning_rate=lr, reg=reg,\n",
    "                      num_iters=1500, verbose=True)\n",
    "        y_train_pred = softmax.predict(X_train)\n",
    "        print 'training accuracy: %f' % (np.mean(y_train == y_train_pred), )\n",
    "        y_val_pred = softmax.predict(X_val)\n",
    "        print 'validation accuracy: %f' % (np.mean(y_val == y_val_pred), )\n",
    "        results[(lr, reg)] = (lr, reg)\n",
    "        if np.mean(y_val == y_val_pred) > best_val:\n",
    "            best_val = np.mean(y_val == y_val_pred) \n",
    "            best_softmax = softmax\n",
    "\n",
    "\n",
    "################################################################################\n",
    "#                              END OF YOUR CODE                                #\n",
    "################################################################################\n",
    "    \n",
    "# Print out results.\n",
    "for lr, reg in sorted(results):\n",
    "    train_accuracy, val_accuracy = results[(lr, reg)]\n",
    "    print 'lr %e reg %e train accuracy: %f val accuracy: %f' % (\n",
    "                lr, reg, train_accuracy, val_accuracy)\n",
    "    \n",
    "print 'best validation accuracy achieved during cross-validation: %f' % best_val"
   ]
  },
  {
   "cell_type": "code",
   "execution_count": 7,
   "metadata": {
    "collapsed": false
   },
   "outputs": [
    {
     "name": "stdout",
     "output_type": "stream",
     "text": [
      "softmax on raw pixels final test set accuracy: 0.387000\n"
     ]
    }
   ],
   "source": [
    "# evaluate on test set\n",
    "# Evaluate the best softmax on test set\n",
    "y_test_pred = best_softmax.predict(X_test)\n",
    "test_accuracy = np.mean(y_test == y_test_pred)\n",
    "print 'softmax on raw pixels final test set accuracy: %f' % (test_accuracy, )"
   ]
  },
  {
   "cell_type": "code",
   "execution_count": 8,
   "metadata": {
    "collapsed": false
   },
   "outputs": [
    {
     "data": {
      "image/png": "[encoded data removed]",
      "text/plain": [
       "<matplotlib.figure.Figure at 0x8b22b00>"
      ]
     },
     "metadata": {},
     "output_type": "display_data"
    }
   ],
   "source": [
    "# Visualize the learned weights for each class\n",
    "w = best_softmax.W[:-1,:] # strip out the bias\n",
    "w = w.reshape(32, 32, 3, 10)\n",
    "\n",
    "w_min, w_max = np.min(w), np.max(w)\n",
    "\n",
    "classes = ['plane', 'car', 'bird', 'cat', 'deer', 'dog', 'frog', 'horse', 'ship', 'truck']\n",
    "for i in xrange(10):\n",
    "  plt.subplot(2, 5, i + 1)\n",
    "  \n",
    "  # Rescale the weights to be between 0 and 255\n",
    "  wimg = 255.0 * (w[:, :, :, i].squeeze() - w_min) / (w_max - w_min)\n",
    "  plt.imshow(wimg.astype('uint8'))\n",
    "  plt.axis('off')\n",
    "  plt.title(classes[i])"
   ]
  },
  {
   "cell_type": "code",
   "execution_count": null,
   "metadata": {
    "collapsed": true
   },
   "outputs": [],
   "source": []
  }
 ],
 "metadata": {
  "anaconda-cloud": {},
  "kernelspec": {
   "display_name": "Python [default]",
   "language": "python",
   "name": "python2"
  },
  "language_info": {
   "codemirror_mode": {
    "name": "ipython",
    "version": 2
   },
   "file_extension": ".py",
   "mimetype": "text/x-python",
   "name": "python",
   "nbconvert_exporter": "python",
   "pygments_lexer": "ipython2",
   "version": "2.7.12"
  }
 },
 "nbformat": 4,
 "nbformat_minor": 0
}
