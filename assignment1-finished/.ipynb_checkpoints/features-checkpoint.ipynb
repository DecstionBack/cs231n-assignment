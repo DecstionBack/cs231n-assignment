{
 "cells": [
  {
   "cell_type": "markdown",
   "metadata": {},
   "source": [
    "# Image features exercise\n",
    "*Complete and hand in this completed worksheet (including its outputs and any supporting code outside of the worksheet) with your assignment submission. For more details see the [assignments page](http://vision.stanford.edu/teaching/cs231n/assignments.html) on the course website.*\n",
    "\n",
    "We have seen that we can achieve reasonable performance on an image classification task by training a linear classifier on the pixels of the input image. In this exercise we will show that we can improve our classification performance by training linear classifiers not on raw pixels but on features that are computed from the raw pixels.\n",
    "\n",
    "All of your work for this exercise will be done in this notebook."
   ]
  },
  {
   "cell_type": "code",
   "execution_count": 1,
   "metadata": {
    "collapsed": false
   },
   "outputs": [],
   "source": [
    "import random\n",
    "import numpy as np\n",
    "from cs231n.data_utils import load_CIFAR10\n",
    "import matplotlib.pyplot as plt\n",
    "%matplotlib inline\n",
    "plt.rcParams['figure.figsize'] = (10.0, 8.0) # set default size of plots\n",
    "plt.rcParams['image.interpolation'] = 'nearest'\n",
    "plt.rcParams['image.cmap'] = 'gray'\n",
    "\n",
    "# for auto-reloading extenrnal modules\n",
    "# see http://stackoverflow.com/questions/1907993/autoreload-of-modules-in-ipython\n",
    "%load_ext autoreload\n",
    "%autoreload 2"
   ]
  },
  {
   "cell_type": "markdown",
   "metadata": {},
   "source": [
    "## Load data\n",
    "Similar to previous exercises, we will load CIFAR-10 data from disk."
   ]
  },
  {
   "cell_type": "code",
   "execution_count": 2,
   "metadata": {
    "collapsed": false
   },
   "outputs": [],
   "source": [
    "from cs231n.features import color_histogram_hsv, hog_feature\n",
    "\n",
    "def get_CIFAR10_data(num_training=49000, num_validation=1000, num_test=1000):\n",
    "  # Load the raw CIFAR-10 data\n",
    "  cifar10_dir = 'cs231n/datasets/cifar-10-batches-py'\n",
    "  X_train, y_train, X_test, y_test = load_CIFAR10(cifar10_dir)\n",
    "  \n",
    "  # Subsample the data\n",
    "  mask = range(num_training, num_training + num_validation)\n",
    "  X_val = X_train[mask]\n",
    "  y_val = y_train[mask]\n",
    "  mask = range(num_training)\n",
    "  X_train = X_train[mask]\n",
    "  y_train = y_train[mask]\n",
    "  mask = range(num_test)\n",
    "  X_test = X_test[mask]\n",
    "  y_test = y_test[mask]\n",
    "\n",
    "  return X_train, y_train, X_val, y_val, X_test, y_test\n",
    "\n",
    "X_train, y_train, X_val, y_val, X_test, y_test = get_CIFAR10_data()"
   ]
  },
  {
   "cell_type": "markdown",
   "metadata": {},
   "source": [
    "## Extract Features\n",
    "For each image we will compute a Histogram of Oriented\n",
    "Gradients (HOG) as well as a color histogram using the hue channel in HSV\n",
    "color space. We form our final feature vector for each image by concatenating\n",
    "the HOG and color histogram feature vectors.\n",
    "\n",
    "Roughly speaking, HOG should capture the texture of the image while ignoring\n",
    "color information, and the color histogram represents the color of the input\n",
    "image while ignoring texture. As a result, we expect that using both together\n",
    "ought to work better than using either alone. Verifying this assumption would\n",
    "be a good thing to try for the bonus section.\n",
    "\n",
    "The `hog_feature` and `color_histogram_hsv` functions both operate on a single\n",
    "image and return a feature vector for that image. The extract_features\n",
    "function takes a set of images and a list of feature functions and evaluates\n",
    "each feature function on each image, storing the results in a matrix where\n",
    "each column is the concatenation of all feature vectors for a single image."
   ]
  },
  {
   "cell_type": "code",
   "execution_count": 3,
   "metadata": {
    "collapsed": false
   },
   "outputs": [
    {
     "name": "stdout",
     "output_type": "stream",
     "text": [
      "Done extracting features for 1000 / 49000 images\n",
      "Done extracting features for 2000 / 49000 images\n",
      "Done extracting features for 3000 / 49000 images\n",
      "Done extracting features for 4000 / 49000 images\n",
      "Done extracting features for 5000 / 49000 images\n",
      "Done extracting features for 6000 / 49000 images\n",
      "Done extracting features for 7000 / 49000 images\n",
      "Done extracting features for 8000 / 49000 images\n",
      "Done extracting features for 9000 / 49000 images\n",
      "Done extracting features for 10000 / 49000 images\n",
      "Done extracting features for 11000 / 49000 images\n",
      "Done extracting features for 12000 / 49000 images\n",
      "Done extracting features for 13000 / 49000 images\n",
      "Done extracting features for 14000 / 49000 images\n",
      "Done extracting features for 15000 / 49000 images\n",
      "Done extracting features for 16000 / 49000 images\n",
      "Done extracting features for 17000 / 49000 images\n",
      "Done extracting features for 18000 / 49000 images\n",
      "Done extracting features for 19000 / 49000 images\n",
      "Done extracting features for 20000 / 49000 images\n",
      "Done extracting features for 21000 / 49000 images\n",
      "Done extracting features for 22000 / 49000 images\n",
      "Done extracting features for 23000 / 49000 images\n",
      "Done extracting features for 24000 / 49000 images\n",
      "Done extracting features for 25000 / 49000 images\n",
      "Done extracting features for 26000 / 49000 images\n",
      "Done extracting features for 27000 / 49000 images\n",
      "Done extracting features for 28000 / 49000 images\n",
      "Done extracting features for 29000 / 49000 images\n",
      "Done extracting features for 30000 / 49000 images\n",
      "Done extracting features for 31000 / 49000 images\n",
      "Done extracting features for 32000 / 49000 images\n",
      "Done extracting features for 33000 / 49000 images\n",
      "Done extracting features for 34000 / 49000 images\n",
      "Done extracting features for 35000 / 49000 images\n",
      "Done extracting features for 36000 / 49000 images\n",
      "Done extracting features for 37000 / 49000 images\n",
      "Done extracting features for 38000 / 49000 images\n",
      "Done extracting features for 39000 / 49000 images\n",
      "Done extracting features for 40000 / 49000 images\n",
      "Done extracting features for 41000 / 49000 images\n",
      "Done extracting features for 42000 / 49000 images\n",
      "Done extracting features for 43000 / 49000 images\n",
      "Done extracting features for 44000 / 49000 images\n",
      "Done extracting features for 45000 / 49000 images\n",
      "Done extracting features for 46000 / 49000 images\n",
      "Done extracting features for 47000 / 49000 images\n",
      "Done extracting features for 48000 / 49000 images\n"
     ]
    }
   ],
   "source": [
    "from cs231n.features import *\n",
    "\n",
    "num_color_bins = 10 # Number of bins in the color histogram\n",
    "feature_fns = [hog_feature, lambda img: color_histogram_hsv(img, nbin=num_color_bins)]\n",
    "X_train_feats = extract_features(X_train, feature_fns, verbose=True)\n",
    "X_val_feats = extract_features(X_val, feature_fns)\n",
    "X_test_feats = extract_features(X_test, feature_fns)\n",
    "\n",
    "# Preprocessing: Subtract the mean feature\n",
    "mean_feat = np.mean(X_train_feats, axis=0, keepdims=True)\n",
    "X_train_feats -= mean_feat\n",
    "X_val_feats -= mean_feat\n",
    "X_test_feats -= mean_feat\n",
    "\n",
    "# Preprocessing: Divide by standard deviation. This ensures that each feature\n",
    "# has roughly the same scale.\n",
    "std_feat = np.std(X_train_feats, axis=0, keepdims=True)\n",
    "X_train_feats /= std_feat\n",
    "X_val_feats /= std_feat\n",
    "X_test_feats /= std_feat\n",
    "\n",
    "# Preprocessing: Add a bias dimension\n",
    "X_train_feats = np.hstack([X_train_feats, np.ones((X_train_feats.shape[0], 1))])\n",
    "X_val_feats = np.hstack([X_val_feats, np.ones((X_val_feats.shape[0], 1))])\n",
    "X_test_feats = np.hstack([X_test_feats, np.ones((X_test_feats.shape[0], 1))])"
   ]
  },
  {
   "cell_type": "markdown",
   "metadata": {},
   "source": [
    "## Train SVM on features\n",
    "Using the multiclass SVM code developed earlier in the assignment, train SVMs on top of the features extracted above; this should achieve better results than training SVMs directly on top of raw pixels."
   ]
  },
  {
   "cell_type": "code",
   "execution_count": 4,
   "metadata": {
    "collapsed": false
   },
   "outputs": [
    {
     "name": "stdout",
     "output_type": "stream",
     "text": [
      "iteration 0 / 1000: loss 83.492542\n",
      "iteration 100 / 1000: loss 82.011512\n",
      "iteration 200 / 1000: loss 80.557524\n",
      "iteration 300 / 1000: loss 79.148320\n",
      "iteration 400 / 1000: loss 77.759250\n",
      "iteration 500 / 1000: loss 76.390062\n",
      "iteration 600 / 1000: loss 75.055689\n",
      "iteration 700 / 1000: loss 73.750150\n",
      "iteration 800 / 1000: loss 72.475441\n",
      "iteration 900 / 1000: loss 71.213937\n",
      "iteration 0 / 1000: loss 800.222130\n",
      "iteration 100 / 1000: loss 656.745609\n",
      "iteration 200 / 1000: loss 539.270997\n",
      "iteration 300 / 1000: loss 443.093654\n",
      "iteration 400 / 1000: loss 364.389495\n",
      "iteration 500 / 1000: loss 299.926920\n",
      "iteration 600 / 1000: loss 247.173028\n",
      "iteration 700 / 1000: loss 203.972368\n",
      "iteration 800 / 1000: loss 168.620513\n",
      "iteration 900 / 1000: loss 139.670346\n",
      "iteration 0 / 1000: loss 7874.682922\n",
      "iteration 100 / 1000: loss 1062.845912\n",
      "iteration 200 / 1000: loss 150.194097\n",
      "iteration 300 / 1000: loss 27.916568\n",
      "iteration 400 / 1000: loss 11.534405\n",
      "iteration 500 / 1000: loss 9.339617\n",
      "iteration 600 / 1000: loss 9.045508\n",
      "iteration 700 / 1000: loss 9.006095\n",
      "iteration 800 / 1000: loss 9.000815\n",
      "iteration 900 / 1000: loss 9.000107\n",
      "iteration 0 / 1000: loss 84.107243\n",
      "iteration 100 / 1000: loss 70.486753\n",
      "iteration 200 / 1000: loss 59.335216\n",
      "iteration 300 / 1000: loss 50.209390\n",
      "iteration 400 / 1000: loss 42.734232\n",
      "iteration 500 / 1000: loss 36.612375\n",
      "iteration 600 / 1000: loss 31.603348\n",
      "iteration 700 / 1000: loss 27.512337\n",
      "iteration 800 / 1000: loss 24.149932\n",
      "iteration 900 / 1000: loss 21.399758\n",
      "iteration 0 / 1000: loss 792.885088\n",
      "iteration 100 / 1000: loss 114.024079\n",
      "iteration 200 / 1000: loss 23.071241\n",
      "iteration 300 / 1000: loss 10.885852\n",
      "iteration 400 / 1000: loss 9.252682\n",
      "iteration 500 / 1000: loss 9.033787\n",
      "iteration 600 / 1000: loss 9.004518\n",
      "iteration 700 / 1000: loss 9.000579\n",
      "iteration 800 / 1000: loss 9.000054\n",
      "iteration 900 / 1000: loss 8.999982\n",
      "iteration 0 / 1000: loss 7582.824077\n",
      "iteration 100 / 1000: loss 9.000002\n",
      "iteration 200 / 1000: loss 8.999997\n",
      "iteration 300 / 1000: loss 8.999997\n",
      "iteration 400 / 1000: loss 8.999996\n",
      "iteration 500 / 1000: loss 8.999997\n",
      "iteration 600 / 1000: loss 8.999997\n",
      "iteration 700 / 1000: loss 8.999996\n",
      "iteration 800 / 1000: loss 8.999997\n",
      "iteration 900 / 1000: loss 8.999997\n",
      "iteration 0 / 1000: loss 82.233172\n",
      "iteration 100 / 1000: loss 18.812006\n",
      "iteration 200 / 1000: loss 10.313703\n",
      "iteration 300 / 1000: loss 9.175941\n",
      "iteration 400 / 1000: loss 9.023245\n",
      "iteration 500 / 1000: loss 9.002879\n",
      "iteration 600 / 1000: loss 9.000181\n",
      "iteration 700 / 1000: loss 8.999760\n",
      "iteration 800 / 1000: loss 8.999547\n",
      "iteration 900 / 1000: loss 8.999630\n",
      "iteration 0 / 1000: loss 793.643883\n",
      "iteration 100 / 1000: loss 8.999964\n",
      "iteration 200 / 1000: loss 8.999976\n",
      "iteration 300 / 1000: loss 8.999965\n",
      "iteration 400 / 1000: loss 8.999966\n",
      "iteration 500 / 1000: loss 8.999958\n",
      "iteration 600 / 1000: loss 8.999964\n",
      "iteration 700 / 1000: loss 8.999963\n",
      "iteration 800 / 1000: loss 8.999958\n",
      "iteration 900 / 1000: loss 8.999971\n",
      "iteration 0 / 1000: loss 7574.607881\n",
      "iteration 100 / 1000: loss 8.999999\n",
      "iteration 200 / 1000: loss 9.000000\n",
      "iteration 300 / 1000: loss 9.000000\n",
      "iteration 400 / 1000: loss 9.000000\n",
      "iteration 500 / 1000: loss 9.000000\n",
      "iteration 600 / 1000: loss 9.000000\n",
      "iteration 700 / 1000: loss 9.000001\n",
      "iteration 800 / 1000: loss 9.000001\n",
      "iteration 900 / 1000: loss 9.000000\n",
      "lr 1.000000e-09 reg 1.000000e+05 train accuracy: 0.085898 val accuracy: 0.074000\n",
      "lr 1.000000e-09 reg 1.000000e+06 train accuracy: 0.097204 val accuracy: 0.102000\n",
      "lr 1.000000e-09 reg 1.000000e+07 train accuracy: 0.307388 val accuracy: 0.316000\n",
      "lr 1.000000e-08 reg 1.000000e+05 train accuracy: 0.129939 val accuracy: 0.121000\n",
      "lr 1.000000e-08 reg 1.000000e+06 train accuracy: 0.410878 val accuracy: 0.399000\n",
      "lr 1.000000e-08 reg 1.000000e+07 train accuracy: 0.398510 val accuracy: 0.396000\n",
      "lr 1.000000e-07 reg 1.000000e+05 train accuracy: 0.415000 val accuracy: 0.433000\n",
      "lr 1.000000e-07 reg 1.000000e+06 train accuracy: 0.409347 val accuracy: 0.397000\n",
      "lr 1.000000e-07 reg 1.000000e+07 train accuracy: 0.327653 val accuracy: 0.340000\n",
      "best validation accuracy achieved during cross-validation: 0.433000\n"
     ]
    }
   ],
   "source": [
    "# Use the validation set to tune the learning rate and regularization strength\n",
    "\n",
    "from cs231n.classifiers.linear_classifier import LinearSVM\n",
    "\n",
    "learning_rates = [1e-9, 1e-8, 1e-7]\n",
    "regularization_strengths = [1e5, 1e6, 1e7]\n",
    "\n",
    "results = {}\n",
    "best_val = -1\n",
    "best_svm = None\n",
    "\n",
    "\n",
    "################################################################################\n",
    "# TODO:                                                                        #\n",
    "# Use the validation set to set the learning rate and regularization strength. #\n",
    "# This should be identical to the validation that you did for the SVM; save    #\n",
    "# the best trained classifer in best_svm. You might also want to play          #\n",
    "# with different numbers of bins in the color histogram. If you are careful    #\n",
    "# you should be able to get accuracy of near 0.44 on the validation set.       #\n",
    "################################################################################\n",
    "for lr in learning_rates:\n",
    "    for rs in regularization_strengths:\n",
    "        svm = LinearSVM()\n",
    "        svm.train(X_train_feats, y_train, learning_rate=lr, reg=rs,num_iters=1000, verbose=True)\n",
    "        \n",
    "        train_labels = svm.predict(X_train_feats)\n",
    "        train_accuracy = np.mean(train_labels == y_train)\n",
    "        \n",
    "        val_labels =svm.predict(X_val_feats)\n",
    "        val_accuracy = np.mean(val_labels == y_val)\n",
    "        \n",
    "        results[(lr,rs)] = (train_accuracy, val_accuracy)\n",
    "        \n",
    "        if best_val < val_accuracy:\n",
    "            best_val = val_accuracy\n",
    "            best_svm = svm\n",
    "################################################################################\n",
    "#                              END OF YOUR CODE                                #\n",
    "################################################################################\n",
    "\n",
    "# Print out results.\n",
    "for lr, reg in sorted(results):\n",
    "    train_accuracy, val_accuracy = results[(lr, reg)]\n",
    "    print 'lr %e reg %e train accuracy: %f val accuracy: %f' % (\n",
    "                lr, reg, train_accuracy, val_accuracy)\n",
    "    \n",
    "print 'best validation accuracy achieved during cross-validation: %f' % best_val"
   ]
  },
  {
   "cell_type": "code",
   "execution_count": 5,
   "metadata": {
    "collapsed": false
   },
   "outputs": [
    {
     "name": "stdout",
     "output_type": "stream",
     "text": [
      "0.426\n"
     ]
    }
   ],
   "source": [
    "# Evaluate your trained SVM on the test set\n",
    "y_test_pred = best_svm.predict(X_test_feats)\n",
    "test_accuracy = np.mean(y_test == y_test_pred)\n",
    "print test_accuracy"
   ]
  },
  {
   "cell_type": "code",
   "execution_count": null,
   "metadata": {
    "collapsed": false
   },
   "outputs": [],
   "source": [
    "# An important way to gain intuition about how an algorithm works is to\n",
    "# visualize the mistakes that it makes. In this visualization, we show examples\n",
    "# of images that are misclassified by our current system. The first column\n",
    "# shows images that our system labeled as \"plane\" but whose true label is\n",
    "# something other than \"plane\".\n",
    "\n",
    "examples_per_class = 8\n",
    "classes = ['plane', 'car', 'bird', 'cat', 'deer', 'dog', 'frog', 'horse', 'ship', 'truck']\n",
    "for cls, cls_name in enumerate(classes):\n",
    "    idxs = np.where((y_test != cls) & (y_test_pred == cls))[0]\n",
    "    idxs = np.random.choice(idxs, examples_per_class, replace=False)\n",
    "    for i, idx in enumerate(idxs):\n",
    "        plt.subplot(examples_per_class, len(classes), i * len(classes) + cls + 1)\n",
    "        plt.imshow(X_test[idx].astype('uint8'))\n",
    "        plt.axis('off')\n",
    "        if i == 0:\n",
    "            plt.title(cls_name)\n",
    "plt.show()"
   ]
  },
  {
   "cell_type": "markdown",
   "metadata": {},
   "source": [
    "### Inline question 1:\n",
    "Describe the misclassification results that you see. Do they make sense?"
   ]
  },
  {
   "cell_type": "markdown",
   "metadata": {},
   "source": [
    "## Neural Network on image features\n",
    "Earlier in this assigment we saw that training a two-layer neural network on raw pixels achieved better classification performance than linear classifiers on raw pixels. In this notebook we have seen that linear classifiers on image features outperform linear classifiers on raw pixels. \n",
    "\n",
    "For completeness, we should also try training a neural network on image features. This approach should outperform all previous approaches: you should easily be able to achieve over 55% classification accuracy on the test set; our best model achieves about 60% classification accuracy."
   ]
  },
  {
   "cell_type": "code",
   "execution_count": 6,
   "metadata": {
    "collapsed": false
   },
   "outputs": [
    {
     "name": "stdout",
     "output_type": "stream",
     "text": [
      "(49000L, 155L)\n"
     ]
    }
   ],
   "source": [
    "print X_train_feats.shape"
   ]
  },
  {
   "cell_type": "code",
   "execution_count": null,
   "metadata": {
    "collapsed": false
   },
   "outputs": [],
   "source": [
    "from cs231n.classifiers.neural_net import TwoLayerNet\n",
    "\n",
    "input_dim = X_train_feats.shape[1]\n",
    "hidden_dim = 500\n",
    "num_classes = 10\n",
    "\n",
    "net = TwoLayerNet(input_dim, hidden_dim, num_classes)\n",
    "best_net = None\n",
    "\n",
    "################################################################################\n",
    "# TODO: Train a two-layer neural network on image features. You may want to    #\n",
    "# cross-validate various parameters as in previous sections. Store your best   #\n",
    "# model in the best_net variable.                                              #\n",
    "################################################################################\n",
    "\n",
    "################################################################################\n",
    "#                              END OF YOUR CODE                                #\n",
    "################################################################################"
   ]
  },
  {
   "cell_type": "code",
   "execution_count": null,
   "metadata": {
    "collapsed": false
   },
   "outputs": [],
   "source": [
    "# Run your neural net classifier on the test set. You should be able to\n",
    "# get more than 55% accuracy.\n",
    "\n",
    "test_acc = (net.predict(X_test_feats) == y_test).mean()\n",
    "print test_acc"
   ]
  },
  {
   "cell_type": "markdown",
   "metadata": {},
   "source": [
    "# Bonus: Design your own features!\n",
    "\n",
    "You have seen that simple image features can improve classification performance. So far we have tried HOG and color histograms, but other types of features may be able to achieve even better classification performance.\n",
    "\n",
    "For bonus points, design and implement a new type of feature and use it for image classification on CIFAR-10. Explain how your feature works and why you expect it to be useful for image classification. Implement it in this notebook, cross-validate any hyperparameters, and compare its performance to the HOG + Color histogram baseline."
   ]
  },
  {
   "cell_type": "markdown",
   "metadata": {},
   "source": [
    "# Bonus: Do something extra!\n",
    "Use the material and code we have presented in this assignment to do something interesting. Was there another question we should have asked? Did any cool ideas pop into your head as you were working on the assignment? This is your chance to show off!"
   ]
  }
 ],
 "metadata": {
  "anaconda-cloud": {},
  "kernelspec": {
   "display_name": "Python [default]",
   "language": "python",
   "name": "python2"
  },
  "language_info": {
   "codemirror_mode": {
    "name": "ipython",
    "version": 2
   },
   "file_extension": ".py",
   "mimetype": "text/x-python",
   "name": "python",
   "nbconvert_exporter": "python",
   "pygments_lexer": "ipython2",
   "version": "2.7.12"
  }
 },
 "nbformat": 4,
 "nbformat_minor": 0
}
